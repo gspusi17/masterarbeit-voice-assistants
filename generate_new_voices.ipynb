{
 "cells": [
  {
   "cell_type": "code",
   "execution_count": 1,
   "metadata": {},
   "outputs": [],
   "source": [
    "import os\n",
    "from manipulate_voice import manipulate_voice"
   ]
  },
  {
   "cell_type": "code",
   "execution_count": 2,
   "metadata": {},
   "outputs": [],
   "source": [
    "input_female = os.path.join('original_voices', 'wav_female.wav')\n",
    "input_male = os.path.join('original_voices', 'wav_male.wav')"
   ]
  },
  {
   "cell_type": "code",
   "execution_count": 3,
   "metadata": {},
   "outputs": [
    {
     "name": "stdout",
     "output_type": "stream",
     "text": [
      "Processed original_voices/wav_female.wav...\n",
      "Manipulated the voice of original_voices/wav_female.wav...\n",
      "Saved the manipulated voice to generated_voices/female_young.wav...\n"
     ]
    }
   ],
   "source": [
    "output_female_young = os.path.join('generated_voices', 'female_young.wav')\n",
    "female_young_kwargs = {\n",
    "    'pitch_floor': 150,\n",
    "    'pitch_ceiling': 350,\n",
    "    'formant_shift_ratio': 1.05,\n",
    "    'new_pitch_median': 250,\n",
    "    'pitch_range_factor': 1.2,\n",
    "    'duration_factor': 1.0,\n",
    "}\n",
    "manipulate_voice(input_female, output_female_young, **female_young_kwargs)"
   ]
  },
  {
   "cell_type": "code",
   "execution_count": 4,
   "metadata": {},
   "outputs": [
    {
     "name": "stdout",
     "output_type": "stream",
     "text": [
      "Processed original_voices/wav_female.wav...\n",
      "Manipulated the voice of original_voices/wav_female.wav...\n",
      "Saved the manipulated voice to generated_voices/female_old.wav...\n"
     ]
    }
   ],
   "source": [
    "output_female_old = os.path.join('generated_voices', 'female_old.wav')\n",
    "female_old_kwargs = {\n",
    "    'pitch_floor': 150,\n",
    "    'pitch_ceiling': 450,\n",
    "    'formant_shift_ratio': 0.98,\n",
    "    'new_pitch_median': 200,\n",
    "    'pitch_range_factor': 1.0,\n",
    "    'duration_factor': 1.05,\n",
    "}\n",
    "manipulate_voice(input_female, output_female_old, **female_old_kwargs)"
   ]
  },
  {
   "cell_type": "code",
   "execution_count": 5,
   "metadata": {},
   "outputs": [
    {
     "name": "stdout",
     "output_type": "stream",
     "text": [
      "Processed original_voices/wav_male.wav...\n",
      "Manipulated the voice of original_voices/wav_male.wav...\n",
      "Saved the manipulated voice to generated_voices/male_young.wav...\n"
     ]
    }
   ],
   "source": [
    "output_male_young = os.path.join('generated_voices', 'male_young.wav')\n",
    "male_young_kwargs = {\n",
    "    'pitch_floor': 95,\n",
    "    'pitch_ceiling': 180,\n",
    "    'formant_shift_ratio': 0.9,\n",
    "    'new_pitch_median': 125,\n",
    "    'pitch_range_factor': 1.1,\n",
    "    'duration_factor': 1.05,\n",
    "}\n",
    "manipulate_voice(input_male, output_male_young, **male_young_kwargs)"
   ]
  },
  {
   "cell_type": "code",
   "execution_count": 6,
   "metadata": {},
   "outputs": [
    {
     "name": "stdout",
     "output_type": "stream",
     "text": [
      "Processed original_voices/wav_male.wav...\n",
      "Manipulated the voice of original_voices/wav_male.wav...\n",
      "Saved the manipulated voice to generated_voices/male_old.wav...\n"
     ]
    }
   ],
   "source": [
    "output_male_old = os.path.join('generated_voices', 'male_old.wav')\n",
    "male_old_kwargs = {\n",
    "    'pitch_floor': 78,\n",
    "    'pitch_ceiling': 165,\n",
    "    'formant_shift_ratio': 0.88,\n",
    "    'new_pitch_median': 115,\n",
    "    'pitch_range_factor': 1.0,\n",
    "    'duration_factor': 1.1,\n",
    "}\n",
    "manipulate_voice(input_male, output_male_old, **male_old_kwargs)"
   ]
  },
  {
   "cell_type": "code",
   "execution_count": 7,
   "metadata": {},
   "outputs": [
    {
     "name": "stdout",
     "output_type": "stream",
     "text": [
      "Processed original_voices/wav_female.wav...\n",
      "Manipulated the voice of original_voices/wav_female.wav...\n",
      "Saved the manipulated voice to generated_voices/neutral.wav...\n"
     ]
    }
   ],
   "source": [
    "output_neutral = os.path.join('generated_voices', 'neutral.wav')\n",
    "neutral_kwargs = {\n",
    "    'pitch_floor': 80,\n",
    "    'pitch_ceiling': 250,\n",
    "    'formant_shift_ratio': 0.92,\n",
    "    'new_pitch_median': 115,\n",
    "    'pitch_range_factor': 0.9,\n",
    "    'duration_factor': 1.0,\n",
    "}\n",
    "manipulate_voice(input_female, output_neutral, **neutral_kwargs)"
   ]
  }
 ],
 "metadata": {
  "kernelspec": {
   "display_name": "voice_assistants",
   "language": "python",
   "name": "python3"
  },
  "language_info": {
   "codemirror_mode": {
    "name": "ipython",
    "version": 3
   },
   "file_extension": ".py",
   "mimetype": "text/x-python",
   "name": "python",
   "nbconvert_exporter": "python",
   "pygments_lexer": "ipython3",
   "version": "3.12.5"
  }
 },
 "nbformat": 4,
 "nbformat_minor": 2
}
